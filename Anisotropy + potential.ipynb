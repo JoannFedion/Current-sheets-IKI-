{
 "cells": [
  {
   "cell_type": "markdown",
   "metadata": {},
   "source": [
    "Выпишем явно тензор натяжений: \n",
    "\n",
    "$$\n",
    "\\hat{A}_B = \n",
    "\\begin{pmatrix}\n",
    "\\dfrac{p_1}{2} & n_1u_xu_y & n_1u_xu_z\\\\\n",
    "n_1u_xu_y & \\dfrac{p_1}{2} & n_1u_yu_z\\\\\n",
    "n_1u_xu_z & n_1u_yu_z & \\dfrac{p_1}{2}\n",
    "\\end{pmatrix}\n",
    "$$\n",
    "\n",
    "Матрица поворота задается следующим образом: \n",
    "\n",
    "$$\n",
    "\\hat{\\cal {O}} = \n",
    "\\begin{pmatrix}\n",
    "\\cos{\\alpha} & 0 & \\sin{\\alpha}\\\\\n",
    "0 & 1 & 0\\\\\n",
    "-\\sin{\\alpha} & 0 & \\cos{\\alpha}\n",
    "\\end{pmatrix}\n",
    "$$\n",
    "\n",
    "Где:\n",
    "$$ \\cos{\\alpha} = \\dfrac{B_z}{\\sqrt{B_x^2+B_z^2}} $$\n",
    "\n",
    "\n",
    "$$\\\\ \\sin{\\alpha} =- \\dfrac{B_x}{\\sqrt{B_x^2+B_z^2}} $$\n",
    "\n",
    "После преобразование $A_B = \\hat{\\cal {O}}\\ A\\ \\hat{\\cal {O}}^T $, учитывая определение анизотропии $\\Lambda =\\dfrac{2p_{||}-p_{\\perp1} - p_{\\perp2}}{4B^2}$  получим для нее выражение: \n",
    "\n",
    "$$\n",
    "\\Lambda = -\\dfrac{3\\cos{\\alpha} \\sin{\\alpha} \\ n_1u_xu_z}{2B^2}\n",
    "$$\n",
    "\n",
    "Теперь добавляем холодные протоны, из-за чего меняется $p_e$ : \n",
    "\n",
    "$$\n",
    "p_e = (2+a_c)n_1\\beta_e \n",
    "$$\n",
    "\n",
    "Тогда система дифференциальных уравнений преобразуется в следующую систему: \n",
    "\n",
    "$$\n",
    "\\begin{cases}\n",
    "\\dfrac{dB_x}{dz} = nu_y  - \\dfrac{d \\left(\\Lambda B_x \\right) }{dz}\\\\ \n",
    "\\\\\n",
    "\\dfrac{du_y}{dz} = B_x(1-n) \\\\\n",
    "\\\\\n",
    "\\dfrac{d}{dz} \\left(\\dfrac{B^2_z}{n} + \\dfrac{\\beta_i n^{\\gamma}}{2} + \\dfrac{1}{4} (2+\\alpha_c)n\\beta_e \\right) = -B_xnu_y \\\\\n",
    "\\end{cases} \n",
    "$$"
   ]
  },
  {
   "cell_type": "code",
   "execution_count": 1,
   "metadata": {},
   "outputs": [],
   "source": [
    "from scipy.integrate import solve_ivp\n",
    "import numpy as np"
   ]
  },
  {
   "cell_type": "code",
   "execution_count": 2,
   "metadata": {},
   "outputs": [],
   "source": [
    "def plasma(t,z,a,b,c,d,p): #a = B_z, b = gamma, c = beta_i, d = beta_e, p - alpha_c\n",
    "    x, y, n = z #x = Bx, y = uy\n",
    "    return [n*y/(1+3/4*a**2*(3*x**2*(x**2+a**2)**2-4*x**4*(x**2+a**2))/(x**2+a**2)**4), \n",
    "            x*(1-n),\n",
    "            -x*y*n/(c*b*n**(b-1)/2+(2+p)*d/4-(a**2/n**2))]"
   ]
  },
  {
   "cell_type": "code",
   "execution_count": 3,
   "metadata": {},
   "outputs": [
    {
     "data": {
      "text/plain": [
       "array([0.000000e+00, 1.000000e-06, 2.000000e-06, ..., 3.999997e+00,\n",
       "       3.999998e+00, 3.999999e+00])"
      ]
     },
     "execution_count": 3,
     "metadata": {},
     "output_type": "execute_result"
    }
   ],
   "source": [
    "z1 = np.arange(0,4,1e-6)\n",
    "z1"
   ]
  },
  {
   "cell_type": "code",
   "execution_count": 13,
   "metadata": {},
   "outputs": [],
   "source": [
    "sol = solve_ivp(plasma,[0,4],[0,0.412,1.42],t_eval = [1], args=(0.05, 5/3, 1, 0.5, 1), rtol = 1e-13,atol = 1e-14)"
   ]
  },
  {
   "cell_type": "code",
   "execution_count": 4,
   "metadata": {},
   "outputs": [],
   "source": [
    "import matplotlib.pyplot as plt"
   ]
  },
  {
   "cell_type": "code",
   "execution_count": 14,
   "metadata": {},
   "outputs": [],
   "source": [
    "Bx = sol.y[0]\n",
    "u = sol.y[1]\n",
    "n = sol.y[2] \n",
    "z = sol.t\n",
    "Bz = 0.05"
   ]
  },
  {
   "cell_type": "code",
   "execution_count": 17,
   "metadata": {},
   "outputs": [
    {
     "data": {
      "text/plain": [
       "array([0.51962751])"
      ]
     },
     "execution_count": 17,
     "metadata": {},
     "output_type": "execute_result"
    }
   ],
   "source": [
    "Bx"
   ]
  },
  {
   "cell_type": "code",
   "execution_count": 8,
   "metadata": {},
   "outputs": [
    {
     "data": {
      "text/plain": [
       "[<matplotlib.lines.Line2D at 0x10befef40>]"
      ]
     },
     "execution_count": 8,
     "metadata": {},
     "output_type": "execute_result"
    },
    {
     "data": {
      "image/png": "[encoded data removed]",
      "text/plain": [
       "<Figure size 432x288 with 1 Axes>"
      ]
     },
     "metadata": {
      "needs_background": "light"
     },
     "output_type": "display_data"
    }
   ],
   "source": [
    "plt.plot(z,Bx)"
   ]
  },
  {
   "cell_type": "code",
   "execution_count": null,
   "metadata": {},
   "outputs": [],
   "source": []
  },
  {
   "cell_type": "markdown",
   "metadata": {},
   "source": [
    "$$\n",
    "\\begin{cases}\n",
    "\\dfrac{dB_x}{dz} = u_y  f(B_x)\\\\ \n",
    "\\\\\n",
    "\\dfrac{du_y}{dz} = g(B_x)\n",
    "\\end{cases} \n",
    "$$\n"
   ]
  },
  {
   "cell_type": "markdown",
   "metadata": {},
   "source": [
    "$$ B^2_x = 1 + \\beta_i(1-n^\\gamma)+\\beta_e(1-n)+2B^2_z(1-1/n) $$"
   ]
  },
  {
   "cell_type": "code",
   "execution_count": 10,
   "metadata": {},
   "outputs": [],
   "source": [
    "from scipy.optimize import fsolve"
   ]
  },
  {
   "cell_type": "code",
   "execution_count": 11,
   "metadata": {},
   "outputs": [],
   "source": [
    "def n_bx (x,Bx,gamma, beta_i, beta_e,Bz):\n",
    "    func = 1+beta_i*(1-x**gamma)+beta_e*(1-x)+2*Bz**2*(1-1/x) - Bx**2\n",
    "    return func\n",
    "\n",
    "def n_B(Bx,gamma, beta_i, beta_e,Bz): #n_B = n(B_x)\n",
    "    return fsolve(n_bx,1,args = (Bx,gamma, beta_i, beta_e,Bz))\n"
   ]
  },
  {
   "cell_type": "code",
   "execution_count": 246,
   "metadata": {},
   "outputs": [],
   "source": [
    "def f(Bx):\n",
    "    return n_B(Bx,*b)/(1+3/4*Bz**2*(3*Bx**2*(Bx**2+Bz**2)**2-4*Bx**4*(Bx**2+Bz**2))/(Bx**2+Bz**2)**4)\n",
    "\n",
    "def g(Bx):\n",
    "    return Bx*(1-n_B(Bx,*b))"
   ]
  },
  {
   "cell_type": "code",
   "execution_count": 28,
   "metadata": {},
   "outputs": [],
   "source": [
    "import scipy.integrate as integrate\n",
    "import scipy.special as special\n",
    "from scipy import interpolate"
   ]
  },
  {
   "cell_type": "code",
   "execution_count": 142,
   "metadata": {},
   "outputs": [],
   "source": [
    "f = interpolate.interp1d(z, Bx)\n",
    "xnew = np.arange(0,4,1e-7)\n",
    "ynew = f(xnew)\n",
    "#plt.plot(xnew,ynew)\n",
    "\n",
    "#ynew[200] - ynew[199]\n",
    "#plt.plot(z,Bx)"
   ]
  },
  {
   "cell_type": "code",
   "execution_count": 152,
   "metadata": {},
   "outputs": [],
   "source": [
    "def deriv(f,x):\n",
    "    der = [(f[i-2]-2*f[i-1]+f[i])/(x[i] - x[i-1]) for i in range(2,x.shape[0])]\n",
    "    return der"
   ]
  },
  {
   "cell_type": "code",
   "execution_count": 9,
   "metadata": {},
   "outputs": [],
   "source": [
    "def deriv2(f,x): #вторая производная\n",
    "    der = [(f[i-2]-2*f[i-1]+f[i])/(x[i] - x[i-1])**2 for i in range(2,x.shape[0])]\n",
    "    return der"
   ]
  },
  {
   "cell_type": "code",
   "execution_count": 10,
   "metadata": {},
   "outputs": [],
   "source": [
    "B22 = deriv2(Bx,z)\n"
   ]
  },
  {
   "cell_type": "code",
   "execution_count": 11,
   "metadata": {},
   "outputs": [
    {
     "data": {
      "text/plain": [
       "(3999998, (4000000,))"
      ]
     },
     "execution_count": 11,
     "metadata": {},
     "output_type": "execute_result"
    }
   ],
   "source": [
    "len(B22), z.shape"
   ]
  },
  {
   "cell_type": "code",
   "execution_count": 12,
   "metadata": {},
   "outputs": [
    {
     "data": {
      "text/plain": [
       "[<matplotlib.lines.Line2D at 0x12116e280>]"
      ]
     },
     "execution_count": 12,
     "metadata": {},
     "output_type": "execute_result"
    },
    {
     "data": {
      "image/png": "[encoded data removed]",
      "text/plain": [
       "<Figure size 432x288 with 1 Axes>"
      ]
     },
     "metadata": {
      "needs_background": "light"
     },
     "output_type": "display_data"
    }
   ],
   "source": [
    "plt.plot(z[2:],B22)"
   ]
  },
  {
   "cell_type": "code",
   "execution_count": 12,
   "metadata": {},
   "outputs": [
    {
     "data": {
      "text/plain": [
       "array([1.32258903])"
      ]
     },
     "execution_count": 12,
     "metadata": {},
     "output_type": "execute_result"
    }
   ],
   "source": [
    "gamma, beta_i, beta_e, Bz = 5/3, 1, 0.5, 0.1\n",
    "b = gamma, beta_i, beta_e, Bz #b - набор параметров, описывающих ток\n",
    "n_B(0.5,*b)"
   ]
  },
  {
   "cell_type": "code",
   "execution_count": 118,
   "metadata": {},
   "outputs": [],
   "source": [
    "G = n/(1+3/4*Bz**2*(3*Bx**2*(Bx**2+Bz**2)**2-4*Bx**4*(Bx**2+Bz**2))/(Bx**2+Bz**2)**4)\n",
    "F = Bx*(1-n)\n",
    "U = F / G"
   ]
  },
  {
   "cell_type": "code",
   "execution_count": 7,
   "metadata": {},
   "outputs": [
    {
     "data": {
      "image/png": "[encoded data removed]",
      "text/plain": [
       "<Figure size 432x288 with 1 Axes>"
      ]
     },
     "metadata": {
      "needs_background": "light"
     },
     "output_type": "display_data"
    }
   ],
   "source": [
    "for i in range(0,1):\n",
    "    sol1 = solve_ivp(plasma,[0,10],[0,0.412,1.42], args=(0.448+0.0005*i, 5/3, 1, 0.5, 1), rtol = 1e-12,atol = 1e-14)\n",
    "    t = sol1.t\n",
    "    z = sol1.y\n",
    "    jy = sol1.y[1]*sol1.y[2]\n",
    "\n",
    "    fig, ax = plt.subplots()\n",
    "    plt.plot(t,z.T)\n",
    "    plt.plot(t,jy)\n",
    "    ax.hlines(0,0,10, color = 'black')\n",
    "    plt.xlabel('z')\n",
    "    plt.title('$B_z$ = %.4f' % (0.448+0.001*i))\n",
    "    plt.legend(['B_x', 'u_y','n','J_y'], shadow=True)\n",
    "    plt.show()"
   ]
  },
  {
   "cell_type": "code",
   "execution_count": 45,
   "metadata": {},
   "outputs": [],
   "source": [
    "def B_x(x):\n",
    "    solve = solve_ivp(plasma,[-1,5],[0,0.412,1.42],t_eval = [x], args=(0.05, 5/3, 1, 0.5, 1), rtol = 1e-13,atol = 1e-14)\n",
    "    B1x = solve.y[0]\n",
    "    return B1x[0]"
   ]
  },
  {
   "cell_type": "code",
   "execution_count": 51,
   "metadata": {},
   "outputs": [
    {
     "data": {
      "text/plain": [
       "(0.5196275058265428, 0.41618040193203143, -0.2782856167726777)"
      ]
     },
     "execution_count": 51,
     "metadata": {},
     "output_type": "execute_result"
    }
   ],
   "source": [
    "B_x(0),dev_Bx(1e-4),dev2_Bx(1e-4)"
   ]
  },
  {
   "cell_type": "code",
   "execution_count": 20,
   "metadata": {},
   "outputs": [],
   "source": [
    "from scipy.misc import derivative"
   ]
  },
  {
   "cell_type": "code",
   "execution_count": 47,
   "metadata": {},
   "outputs": [],
   "source": [
    "def dev_Bx(x):\n",
    "    dev = derivative(B_x, x, dx = 1e-4)\n",
    "    return dev\n",
    "def dev2_Bx(x):\n",
    "    dev = derivative(B_x, x, dx = 1e-4, n = 2)\n",
    "    return dev"
   ]
  },
  {
   "cell_type": "code",
   "execution_count": 48,
   "metadata": {},
   "outputs": [],
   "source": [
    "def intfunc(x):\n",
    "    return dev_Bx(x)*dev2_Bx(x)"
   ]
  },
  {
   "cell_type": "code",
   "execution_count": 56,
   "metadata": {},
   "outputs": [],
   "source": [
    "def W_x(x):\n",
    "    return integrate.quad(intfunc,0,x)"
   ]
  },
  {
   "cell_type": "code",
   "execution_count": 59,
   "metadata": {},
   "outputs": [
    {
     "data": {
      "text/plain": [
       "(-0.06535922352063837, 6.257417633533772e-10)"
      ]
     },
     "execution_count": 59,
     "metadata": {},
     "output_type": "execute_result"
    }
   ],
   "source": []
  }
 ],
 "metadata": {
  "kernelspec": {
   "display_name": "Python 3",
   "language": "python",
   "name": "python3"
  },
  "language_info": {
   "codemirror_mode": {
    "name": "ipython",
    "version": 3
   },
   "file_extension": ".py",
   "mimetype": "text/x-python",
   "name": "python",
   "nbconvert_exporter": "python",
   "pygments_lexer": "ipython3",
   "version": "3.8.5"
  }
 },
 "nbformat": 4,
 "nbformat_minor": 4
}
