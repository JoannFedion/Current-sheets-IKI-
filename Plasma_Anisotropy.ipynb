{
 "cells": [
  {
   "cell_type": "code",
   "execution_count": 2,
   "metadata": {},
   "outputs": [],
   "source": [
    "from scipy.integrate import solve_ivp"
   ]
  },
  {
   "cell_type": "code",
   "execution_count": 3,
   "metadata": {},
   "outputs": [],
   "source": [
    "def plasma(t,z,a,b,c,d):\n",
    "    x, y, n = z\n",
    "    return [n*y, x*(1-n),-x*y*n/(a*b*n**(b-1)+c/2-(d**2/n**2))]"
   ]
  },
  {
   "cell_type": "code",
   "execution_count": 6,
   "metadata": {},
   "outputs": [],
   "source": [
    "sol = solve_ivp(plasma,[0,4],[0,0.412,1.42], args=(0.5, 5/3, 0.5, 0.1), rtol = 1e-14,atol = 1e-14)"
   ]
  },
  {
   "cell_type": "code",
   "execution_count": 4,
   "metadata": {},
   "outputs": [],
   "source": [
    "import numpy as np\n"
   ]
  },
  {
   "cell_type": "code",
   "execution_count": 7,
   "metadata": {},
   "outputs": [],
   "source": [
    "jy = sol.y[1]*sol.y[2]"
   ]
  },
  {
   "cell_type": "code",
   "execution_count": 8,
   "metadata": {},
   "outputs": [
    {
     "data": {
      "image/png": "[encoded data removed]",
      "text/plain": [
       "<Figure size 432x288 with 1 Axes>"
      ]
     },
     "metadata": {
      "needs_background": "light"
     },
     "output_type": "display_data"
    }
   ],
   "source": [
    ">>> t = sol.t\n",
    ">>> z = sol.y\n",
    "\n",
    ">>> import matplotlib.pyplot as plt\n",
    ">>> plt.plot(t, z.T)\n",
    "plt.plot(t,jy)\n",
    "plt.xlabel('z')\n",
    ">>> plt.legend(['B_x', 'u_y','n','J_y'], shadow=True)\n",
    ">>> plt.show()"
   ]
  },
  {
   "cell_type": "code",
   "execution_count": 9,
   "metadata": {},
   "outputs": [],
   "source": [
    "Bx = sol.y[0]\n",
    "uy = sol.y[1]\n",
    "n = sol.y[2]\n"
   ]
  },
  {
   "cell_type": "markdown",
   "metadata": {},
   "source": [
    "$n (\\vec{u}\\cdot \\vec{\\nabla})\\vec{u} + \\dfrac{\\vec{\\nabla}{p}}{2} = n(\\vec{E} + \\vec{u}\\times \\vec{B})$ - equation of motion \n",
    "\n"
   ]
  },
  {
   "cell_type": "markdown",
   "metadata": {},
   "source": [
    "$p =\\dfrac{ n^{\\gamma} \\beta_i}{2} ; \\gamma = 5/3, \\beta_i = 1$"
   ]
  },
  {
   "cell_type": "markdown",
   "metadata": {},
   "source": [
    "Данные, которые нам даны: \n",
    "\n",
    "$\\\\\n",
    "B_x(z) $\n",
    "\n",
    "$ u_y(z) $ \n",
    "\n",
    "$\\\\\n",
    "n(z)$\n",
    "\n",
    "$\\beta_i = 1$ \n",
    "\n",
    "$\\\\\n",
    "\\beta_e  = 0.5$\n",
    "\n",
    "$B_z = 0.1$\n",
    "\n",
    "$\\\\ \\gamma = 5/3 $"
   ]
  },
  {
   "cell_type": "code",
   "execution_count": 10,
   "metadata": {},
   "outputs": [],
   "source": [
    "Bx = sol.y[0]\n",
    "uy = sol.y[1]\n",
    "n = sol.y[2]\n",
    "beta_i = 1\n",
    "beta_e = 0.5\n",
    "Bz = 0.1\n",
    "gamma = 5/3\n"
   ]
  },
  {
   "cell_type": "markdown",
   "metadata": {},
   "source": [
    "Тензор натяжений:\n",
    "$$ A_{ik} = \\dfrac{p}{2}\\delta_{ik} + nu_iu_k $$\n",
    "\n",
    "Изначальный базис выглядит следующим образом: $$\n",
    "\\begin{pmatrix}\n",
    "\\vec{e}_x \\\\\n",
    "\\vec{e}_y \\\\\n",
    "\\vec{e}_z\n",
    "\\end{pmatrix} $$\n",
    "\n",
    "Базис магнитного поля: \n",
    "$$\n",
    "\\begin{pmatrix}\n",
    "\\vec{e}_\\gamma \\\\\n",
    "\\vec{e}_y \\\\\n",
    "\\dfrac{\\vec{B}}{B}\n",
    "\\end{pmatrix} $$\n",
    "\n",
    "где $\\vec{e}_\\gamma \\perp \\dfrac{\\vec{B}}{B}$ и $\\vec{e}_\\gamma \\perp \\vec{e}_y$"
   ]
  },
  {
   "cell_type": "markdown",
   "metadata": {},
   "source": [
    "Тогда найдем преобразование базиса:\n",
    "\n",
    "$$\n",
    "\\begin{pmatrix}\n",
    "\\vec{e}_x \\\\\n",
    "\\vec{e}_y \\\\\n",
    "\\vec{e}_z\n",
    "\\end{pmatrix} \\longmapsto\n",
    "\\begin{pmatrix}\n",
    "\\vec{e}_\\gamma \\\\\n",
    "\\vec{e}_y \\\\\n",
    "\\dfrac{\\vec{B}}{B}\n",
    "\\end{pmatrix}$$ \n",
    "\n",
    "$$\n",
    "\\begin{pmatrix}\n",
    "\\vec{e}_\\gamma \\\\\n",
    "\\vec{e}_y \\\\\n",
    "\\dfrac{\\vec{B}}{B}\n",
    "\\end{pmatrix} = \\hat{\\cal {O}} \\begin{pmatrix}\n",
    "\\vec{e}_x \\\\\n",
    "\\vec{e}_y \\\\\n",
    "\\vec{e}_z\n",
    "\\end{pmatrix} $$ \n",
    "\n",
    "где $\\hat{\\cal {O}}$ - матрица поворота \n",
    "\n",
    "Найдем ее:\n",
    "$$ \\begin{cases}\n",
    "\\vec{e}_\\gamma = \\dfrac{B_z}{\\sqrt{B_x^2+B_z^2}} \\  \\vec{e}_x + 0\\cdot \\vec{e}_y - \\dfrac{B_x(z)}{\\sqrt{B_x^2+B_z^2}} \\ \\vec{e}_z \\\\ \n",
    "\\vec{e}_y = 0\\cdot \\vec{e}_x + 1\\cdot \\vec{e}_y + 0\\cdot \\vec{e}_z \\\\\n",
    "\\\\\n",
    "\\dfrac{\\vec{B}}{B} = \\dfrac{B_x(z)}{\\sqrt{B_x^2+B_z^2}} \\  \\vec{e}_x + 0\\cdot \\vec{e}_y + \\dfrac{B_z}{\\sqrt{B_x^2+B_z^2}} \\ \\vec{e}_z \\\\ \n",
    "\\end{cases} \\Longrightarrow \\hat{\\cal {O}} = \n",
    "\\begin{pmatrix}\n",
    "\\cos{\\alpha} & 0 & \\sin{\\alpha}\\\\\n",
    "0 & 1 & 0\\\\\n",
    "-\\sin{\\alpha} & 0 & \\cos{\\alpha}\n",
    "\\end{pmatrix}\n",
    "$$\n",
    "\n",
    "где:\n",
    "$$ \\cos{\\alpha} = \\dfrac{B_z}{\\sqrt{B_x^2+B_z^2}} $$\n",
    "$$\\\\ \\sin{\\alpha} =- \\dfrac{B_x}{\\sqrt{B_x^2+B_z^2}} $$"
   ]
  },
  {
   "cell_type": "markdown",
   "metadata": {},
   "source": [
    "Тогда, зная преобразование базиса, можем написать, как преобразуется нас тензор натяжений: \n",
    "\n",
    "$$A_B = \\hat{\\cal {O}}\\ A\\ \\hat{\\cal {O}}^T $$"
   ]
  },
  {
   "cell_type": "markdown",
   "metadata": {},
   "source": [
    "Через исходные данные надо найти следующие величины: \n",
    "$ p \\\\\n",
    "u_z \\\\\n",
    "u_x $\n"
   ]
  },
  {
   "cell_type": "markdown",
   "metadata": {},
   "source": [
    "$$\\begin{equation}\n",
    "p_\\alpha = C_\\alpha n_\\alpha^\\gamma  = 2^\\gamma \\beta_1 \\left(\\dfrac{n}{2}\\right)^\\gamma = n^\\gamma \\dfrac{\\beta_i}{2} = p_1 = p_2\n",
    "\\end{equation}$$\n",
    "\n",
    "$$\n",
    "\\begin{cases}\n",
    "u_{1 z} = \\dfrac{\\Gamma_1}{n_1} = \\dfrac{-B_z}{n}\\\\\n",
    "\\\\\n",
    "u_{2 z} = \\dfrac{\\Gamma_2}{n_2} = \\dfrac{B_z}{n}\n",
    "\\end{cases}\n",
    "$$\n",
    "\n",
    "\\begin{cases}\n",
    "u_{1 x} = -B_x\\\\\n",
    "\\\\\n",
    "u_{2 x} = B_x \\\\\n",
    "\\end{cases}"
   ]
  },
  {
   "cell_type": "markdown",
   "metadata": {},
   "source": [
    "Будем решать задачу для протонов $\\alpha = 1$\n"
   ]
  },
  {
   "cell_type": "code",
   "execution_count": 11,
   "metadata": {},
   "outputs": [],
   "source": [
    "p1 = n**(5/3) * beta_i / 2\n",
    "u1x = - Bx\n",
    "u1z = -Bz / n\n",
    "u1y = uy\n"
   ]
  },
  {
   "cell_type": "markdown",
   "metadata": {},
   "source": [
    "Введем наш тензор натяжений"
   ]
  },
  {
   "cell_type": "code",
   "execution_count": 12,
   "metadata": {
    "scrolled": true
   },
   "outputs": [],
   "source": [
    "stress_tensor1 = np.ones((Bx.shape[0],3,3)) # Bx.shape[0] - задает размерность по z. А сам тензор у нас 3 х 3\n",
    "stress_tensor1[:,0,0] = p1/2 #+ n*u1x**2\n",
    "stress_tensor1[:,0,1] = n*u1x*u1y\n",
    "stress_tensor1[:,0,2] = n*u1x*u1z\n",
    "stress_tensor1[:,1,0] = n*u1x*u1y\n",
    "stress_tensor1[:,1,1] = p1/2 #+ n*u1y**2\n",
    "stress_tensor1[:,1,2] = n*u1y*u1z\n",
    "stress_tensor1[:,2,0] = n*u1x*u1z\n",
    "stress_tensor1[:,2,1] = n*u1y*u1z\n",
    "stress_tensor1[:,2,2] = p1/2 # + n*u1z**2"
   ]
  },
  {
   "cell_type": "markdown",
   "metadata": {},
   "source": [
    "Введем матрицу поворота"
   ]
  },
  {
   "cell_type": "code",
   "execution_count": 28,
   "metadata": {},
   "outputs": [],
   "source": [
    "cosa = Bz / np.sqrt(Bz**2 + Bx**2)\n",
    "sina = -Bx / np.sqrt(Bz**2 + Bx**2)\n",
    "rotation_matrix = np.ones((Bx.shape[0],3,3))\n",
    "rotation_matrix[:,0,0] = cosa\n",
    "rotation_matrix[:,0,1] = 0\n",
    "rotation_matrix[:,0,2] = sina \n",
    "rotation_matrix[:,1,0] = 0\n",
    "rotation_matrix[:,1,1] = 1\n",
    "rotation_matrix[:,1,2] = 0\n",
    "rotation_matrix[:,2,0] = -sina\n",
    "rotation_matrix[:,2,1] = 0\n",
    "rotation_matrix[:,2,2] = cosa\n",
    "rotation_matrix_inv = [np.linalg.inv(rotation_matrix[i]) for i in range(Bx.shape[0])]"
   ]
  },
  {
   "cell_type": "code",
   "execution_count": 29,
   "metadata": {},
   "outputs": [],
   "source": [
    "stress_tensor_new = rotation_matrix @ stress_tensor1 @ rotation_matrix_inv"
   ]
  },
  {
   "cell_type": "markdown",
   "metadata": {},
   "source": [
    "Получили новый тензор натяжений уже в нужном базисе\n",
    "\n",
    "Теперь будем смотреть на диагональные элементы: \n",
    "$$\n",
    "\\hat{A}_B = \n",
    "\\begin{pmatrix}\n",
    "p_{\\perp 1} & A_{12} & A_{13}\\\\\n",
    "A_{21} & p_{\\perp 2} & A_{23}\\\\\n",
    "A_{31} & A_{32} & p_{||}\n",
    "\\end{pmatrix}\n",
    "$$\n",
    "\n",
    "Тогда искомая величина выражается: \n",
    "$$\\Lambda = \\dfrac{1}{4} \\dfrac{\\left(2p_{||} - p_{\\perp 1} - p_{\\perp 2}\\right)}{B_x^2+B_z^2} $$"
   ]
  },
  {
   "cell_type": "code",
   "execution_count": 30,
   "metadata": {},
   "outputs": [],
   "source": [
    "p_perp1 = stress_tensor_new[:,0,0]\n",
    "p_perp2 = stress_tensor_new[:,1,1]\n",
    "p_paral = stress_tensor_new[:,2,2]"
   ]
  },
  {
   "cell_type": "code",
   "execution_count": 31,
   "metadata": {},
   "outputs": [],
   "source": [
    "lamb = 1/4 * (2*p_paral - p_perp1 - p_perp2) / (Bx**2+Bz**2)"
   ]
  },
  {
   "cell_type": "code",
   "execution_count": 32,
   "metadata": {},
   "outputs": [
    {
     "data": {
      "image/png": "[encoded data removed]",
      "text/plain": [
       "<Figure size 432x288 with 1 Axes>"
      ]
     },
     "metadata": {
      "needs_background": "light"
     },
     "output_type": "display_data"
    }
   ],
   "source": [
    "plt.plot(t,p_perp1)\n",
    "plt.plot(t,p_perp2)\n",
    "plt.plot(t,p_paral)\n",
    "plt.xlabel('z')\n",
    "plt.legend(['$p_{\\perp1}$','$p_{\\perp2}$','$p_{||}$'])\n",
    "plt.title('График различных давлений')\n",
    "plt.show()"
   ]
  },
  {
   "cell_type": "code",
   "execution_count": 33,
   "metadata": {},
   "outputs": [
    {
     "data": {
      "image/png": "[encoded data removed]",
      "text/plain": [
       "<Figure size 432x288 with 1 Axes>"
      ]
     },
     "metadata": {
      "needs_background": "light"
     },
     "output_type": "display_data"
    }
   ],
   "source": [
    "plt.plot(t,lamb)\n",
    "plt.xlabel('z')\n",
    "plt.legend(['$\\Lambda$'])\n",
    "plt.show()"
   ]
  }
 ],
 "metadata": {
  "kernelspec": {
   "display_name": "Python 3",
   "language": "python",
   "name": "python3"
  },
  "language_info": {
   "codemirror_mode": {
    "name": "ipython",
    "version": 3
   },
   "file_extension": ".py",
   "mimetype": "text/x-python",
   "name": "python",
   "nbconvert_exporter": "python",
   "pygments_lexer": "ipython3",
   "version": "3.8.5"
  }
 },
 "nbformat": 4,
 "nbformat_minor": 4
}
